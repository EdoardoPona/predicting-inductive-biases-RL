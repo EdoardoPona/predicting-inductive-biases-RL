{
 "cells": [
  {
   "cell_type": "code",
   "execution_count": 27,
   "metadata": {},
   "outputs": [],
   "source": [
    "from transformers import AutoTokenizer, AutoModelForCausalLM \n",
    "\n",
    "# model_name = 'ash-23-g4/gpt2-warmup-imdb-split-0.6-epochs-1'\n",
    "model_name = 'ash-23-g4/gpt2-warmup-toxic0.5-split-1.0-epochs-10'\n",
    "# model_name = 'gpt2'\n",
    "\n",
    "tokenizer = AutoTokenizer.from_pretrained(model_name)\n",
    "tokenizer.pad_token = tokenizer.eos_token\n",
    "model = AutoModelForCausalLM.from_pretrained(model_name)\n"
   ]
  },
  {
   "cell_type": "code",
   "execution_count": 28,
   "metadata": {},
   "outputs": [
    {
     "name": "stderr",
     "output_type": "stream",
     "text": [
      "Map: 100%|██████████| 1000/1000 [00:00<00:00, 12054.02 examples/s]\n"
     ]
    }
   ],
   "source": [
    "import pandas as pd\n",
    "from datasets import Dataset \n",
    "from warm_up import dataset_registry\n",
    "\n",
    "data_path = dataset_registry['toxic0.3']\n",
    "# text_column = 'review'\n",
    "text_column = 'Prompt'\n",
    "\n",
    "df = pd.read_csv(data_path)[[text_column]]\n",
    "# sample 100 reviews\n",
    "df = df.sample(1000, random_state=42)\n",
    "\n",
    "prompt_length = 5\n",
    "\n",
    "# convert to huggingface dataset, tokenize \n",
    "dataset = Dataset.from_pandas(df)\n",
    "dataset = dataset.map(\n",
    "    lambda x: tokenizer(\n",
    "        x[text_column], \n",
    "        truncation=True, \n",
    "        max_length=prompt_length,\n",
    "    ), \n",
    "    batched=True,\n",
    "    remove_columns=text_column,\n",
    ")\n",
    "dataset.set_format('torch', columns=['input_ids', 'attention_mask'])\n"
   ]
  },
  {
   "cell_type": "code",
   "execution_count": 29,
   "metadata": {},
   "outputs": [
    {
     "name": "stderr",
     "output_type": "stream",
     "text": [
      "  0%|          | 0/20 [00:00<?, ?it/s]Setting `pad_token_id` to `eos_token_id`:50256 for open-end generation.\n",
      "  5%|▌         | 1/20 [00:07<02:27,  7.76s/it]Setting `pad_token_id` to `eos_token_id`:50256 for open-end generation.\n",
      " 10%|█         | 2/20 [00:14<02:09,  7.21s/it]Setting `pad_token_id` to `eos_token_id`:50256 for open-end generation.\n",
      " 15%|█▌        | 3/20 [00:21<01:58,  6.99s/it]Setting `pad_token_id` to `eos_token_id`:50256 for open-end generation.\n",
      " 20%|██        | 4/20 [00:27<01:48,  6.80s/it]Setting `pad_token_id` to `eos_token_id`:50256 for open-end generation.\n",
      " 25%|██▌       | 5/20 [00:35<01:44,  7.00s/it]Setting `pad_token_id` to `eos_token_id`:50256 for open-end generation.\n",
      " 30%|███       | 6/20 [00:41<01:34,  6.76s/it]Setting `pad_token_id` to `eos_token_id`:50256 for open-end generation.\n",
      " 35%|███▌      | 7/20 [00:48<01:28,  6.78s/it]Setting `pad_token_id` to `eos_token_id`:50256 for open-end generation.\n",
      " 40%|████      | 8/20 [00:54<01:18,  6.56s/it]Setting `pad_token_id` to `eos_token_id`:50256 for open-end generation.\n",
      " 45%|████▌     | 9/20 [01:00<01:11,  6.53s/it]Setting `pad_token_id` to `eos_token_id`:50256 for open-end generation.\n",
      " 50%|█████     | 10/20 [01:07<01:06,  6.65s/it]Setting `pad_token_id` to `eos_token_id`:50256 for open-end generation.\n",
      " 55%|█████▌    | 11/20 [01:14<00:59,  6.58s/it]Setting `pad_token_id` to `eos_token_id`:50256 for open-end generation.\n",
      " 60%|██████    | 12/20 [01:20<00:52,  6.60s/it]Setting `pad_token_id` to `eos_token_id`:50256 for open-end generation.\n",
      " 65%|██████▌   | 13/20 [01:28<00:48,  6.86s/it]Setting `pad_token_id` to `eos_token_id`:50256 for open-end generation.\n",
      " 70%|███████   | 14/20 [01:35<00:41,  6.92s/it]Setting `pad_token_id` to `eos_token_id`:50256 for open-end generation.\n",
      " 75%|███████▌  | 15/20 [01:42<00:34,  6.92s/it]Setting `pad_token_id` to `eos_token_id`:50256 for open-end generation.\n",
      " 80%|████████  | 16/20 [01:48<00:27,  6.76s/it]Setting `pad_token_id` to `eos_token_id`:50256 for open-end generation.\n",
      " 85%|████████▌ | 17/20 [01:55<00:20,  6.78s/it]Setting `pad_token_id` to `eos_token_id`:50256 for open-end generation.\n",
      " 90%|█████████ | 18/20 [02:02<00:13,  6.93s/it]Setting `pad_token_id` to `eos_token_id`:50256 for open-end generation.\n",
      " 95%|█████████▌| 19/20 [02:09<00:06,  6.78s/it]Setting `pad_token_id` to `eos_token_id`:50256 for open-end generation.\n",
      "100%|██████████| 20/20 [02:15<00:00,  6.80s/it]\n"
     ]
    }
   ],
   "source": [
    "model = AutoModelForCausalLM.from_pretrained(model_name)\n",
    "\n",
    "import tqdm \n",
    "\n",
    "batch_size = 50  \n",
    "\n",
    "generated_text = []\n",
    "for t in tqdm.trange(0, len(dataset), batch_size):\n",
    "    batch = dataset[t:t+batch_size]\n",
    "    generated = model.generate(\n",
    "        **batch,\n",
    "        do_sample=True,\n",
    "        top_k=50,\n",
    "        top_p=0.95,\n",
    "        temperature=1.5,\n",
    "        max_length=32,\n",
    "        num_return_sequences=1,\n",
    "    )\n",
    "    decoded = tokenizer.batch_decode(\n",
    "        generated, \n",
    "        skip_special_tokens=True\n",
    "    )\n",
    "    generated_text.extend(decoded)\n"
   ]
  },
  {
   "cell_type": "code",
   "execution_count": 30,
   "metadata": {},
   "outputs": [
    {
     "name": "stdout",
     "output_type": "stream",
     "text": [
      "step 0.0\n",
      "step 0.01\n",
      "step 0.02\n",
      "step 0.03\n",
      "step 0.04\n",
      "step 0.05\n",
      "step 0.06\n",
      "step 0.07\n",
      "step 0.08\n",
      "step 0.09\n",
      "step 0.1\n",
      "step 0.11\n",
      "step 0.12\n",
      "step 0.13\n",
      "step 0.14\n",
      "step 0.15\n",
      "step 0.16\n",
      "step 0.17\n",
      "step 0.18\n",
      "step 0.19\n",
      "step 0.2\n",
      "step 0.21\n",
      "step 0.22\n",
      "step 0.23\n",
      "step 0.24\n",
      "step 0.25\n",
      "step 0.26\n",
      "step 0.27\n",
      "step 0.28\n",
      "step 0.29\n",
      "step 0.3\n",
      "step 0.31\n",
      "step 0.32\n",
      "step 0.33\n",
      "step 0.34\n",
      "step 0.35\n",
      "step 0.36\n",
      "step 0.37\n",
      "step 0.38\n",
      "step 0.39\n",
      "step 0.4\n",
      "step 0.41\n",
      "step 0.42\n",
      "step 0.43\n",
      "step 0.44\n",
      "step 0.45\n",
      "step 0.46\n",
      "step 0.47\n",
      "step 0.48\n",
      "step 0.49\n",
      "step 0.5\n",
      "step 0.51\n",
      "step 0.52\n",
      "step 0.53\n",
      "step 0.54\n",
      "step 0.55\n",
      "step 0.56\n",
      "step 0.57\n",
      "step 0.58\n",
      "step 0.59\n",
      "step 0.6\n",
      "step 0.61\n",
      "step 0.62\n",
      "step 0.63\n",
      "step 0.64\n",
      "step 0.65\n",
      "step 0.66\n",
      "step 0.67\n",
      "step 0.68\n",
      "step 0.69\n",
      "step 0.7\n",
      "step 0.71\n",
      "step 0.72\n",
      "step 0.73\n",
      "step 0.74\n",
      "step 0.75\n",
      "step 0.76\n",
      "step 0.77\n",
      "step 0.78\n",
      "step 0.79\n",
      "step 0.8\n",
      "step 0.81\n",
      "step 0.82\n",
      "step 0.83\n",
      "step 0.84\n",
      "step 0.85\n",
      "step 0.86\n",
      "step 0.87\n",
      "step 0.88\n",
      "step 0.89\n",
      "step 0.9\n",
      "step 0.91\n",
      "step 0.92\n",
      "step 0.93\n",
      "step 0.94\n",
      "step 0.95\n",
      "step 0.96\n",
      "step 0.97\n",
      "step 0.98\n",
      "step 0.99\n"
     ]
    }
   ],
   "source": [
    "# from rl4lms.envs.text_generation.sentiment_reward import XLNetIMDBReward, BERTTwitterReward\n",
    "\n",
    "\n",
    "# def compute_sentiment(text):\n",
    "#     return BERTTwitterReward()._compute_sentiment(text).detach().cpu()[:, 1].item()\n",
    "\n",
    "\n",
    "from transformers import pipeline\n",
    "toxic_pipe = pipeline(\n",
    "        \"text-classification\", \"facebook/roberta-hate-speech-dynabench-r4-target\", device='cuda'\n",
    "    )\n",
    "def compute_toxicity(text):\n",
    "    pipe_kwargs = {\"top_k\": None, \"function_to_apply\": \"none\", \"batch_size\": 1}\n",
    "    pred_a, pred_b = toxic_pipe(text, **pipe_kwargs)\n",
    "    hate = pred_a if pred_a['label']=='hate' else pred_b\n",
    "    return hate['score']\n",
    "\n",
    "# distribution of positive sentiment \n",
    "# i wish we had batched reward computation \n",
    "\n",
    "r_func = compute_toxicity \n",
    "rewards = []\n",
    "for i, t in enumerate(generated_text):\n",
    "    rewards.append(r_func(t))\n",
    "    if i % 10 == 0:\n",
    "        print('step', i/len(generated_text))"
   ]
  },
  {
   "cell_type": "code",
   "execution_count": 31,
   "metadata": {},
   "outputs": [],
   "source": [
    "# base_rewards = rewards\n",
    "warmed_up_rewards = rewards"
   ]
  },
  {
   "cell_type": "code",
   "execution_count": 32,
   "metadata": {},
   "outputs": [
    {
     "data": {
      "image/png": "[encoded data removed]",
      "text/plain": [
       "<Figure size 640x480 with 1 Axes>"
      ]
     },
     "metadata": {},
     "output_type": "display_data"
    }
   ],
   "source": [
    "\n",
    "import matplotlib.pyplot as plt\n",
    "\n",
    "plt.hist(warmed_up_rewards, bins=20, alpha=0.4, label='warmed up')\n",
    "plt.hist(base_rewards, bins=20, alpha=0.4, label='base gpt2')\n",
    "plt.legend()\n",
    "plt.show()"
   ]
  },
  {
   "cell_type": "code",
   "execution_count": null,
   "metadata": {},
   "outputs": [],
   "source": []
  }
 ],
 "metadata": {
  "kernelspec": {
   "display_name": "rl-venv",
   "language": "python",
   "name": "python3"
  },
  "language_info": {
   "codemirror_mode": {
    "name": "ipython",
    "version": 3
   },
   "file_extension": ".py",
   "mimetype": "text/x-python",
   "name": "python",
   "nbconvert_exporter": "python",
   "pygments_lexer": "ipython3",
   "version": "3.8.10"
  },
  "orig_nbformat": 4
 },
 "nbformat": 4,
 "nbformat_minor": 2
}
