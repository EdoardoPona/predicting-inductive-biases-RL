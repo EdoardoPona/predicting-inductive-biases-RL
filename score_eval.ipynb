{
 "cells": [
  {
   "cell_type": "code",
   "execution_count": 110,
   "metadata": {},
   "outputs": [],
   "source": [
    "from transformers import AutoTokenizer, AutoModelForCausalLM \n",
    "\n",
    "model_name = 'ash-23-g4/gpt2-warmup-imdb-split-0.6-epochs-1'\n",
    "# model_name = 'gpt2'\n",
    "\n",
    "tokenizer = AutoTokenizer.from_pretrained(model_name)\n",
    "tokenizer.pad_token = tokenizer.eos_token\n",
    "model = AutoModelForCausalLM.from_pretrained(model_name)\n"
   ]
  },
  {
   "cell_type": "code",
   "execution_count": 111,
   "metadata": {},
   "outputs": [
    {
     "name": "stderr",
     "output_type": "stream",
     "text": [
      "100%|██████████| 1/1 [00:00<00:00,  5.48ba/s]\n"
     ]
    }
   ],
   "source": [
    "import pandas as pd\n",
    "from datasets import Dataset \n",
    "\n",
    "df = pd.read_csv('~/nlp_data/IMDB_dataset.csv')[['review']]\n",
    "# sample 100 reviews\n",
    "df = df.sample(1000, random_state=42)\n",
    "\n",
    "prompt_length = 5\n",
    "\n",
    "# convert to huggingface dataset, tokenize \n",
    "dataset = Dataset.from_pandas(df)\n",
    "dataset = dataset.map(\n",
    "    lambda x: tokenizer(\n",
    "        x['review'], \n",
    "        truncation=True, \n",
    "        max_length=prompt_length,\n",
    "    ), \n",
    "    batched=True,\n",
    "    remove_columns='review',\n",
    ")\n",
    "dataset.set_format('torch', columns=['input_ids', 'attention_mask'])\n"
   ]
  },
  {
   "cell_type": "code",
   "execution_count": 112,
   "metadata": {},
   "outputs": [
    {
     "name": "stderr",
     "output_type": "stream",
     "text": [
      "  0%|          | 0/20 [00:00<?, ?it/s]Setting `pad_token_id` to `eos_token_id`:50256 for open-end generation.\n",
      "  5%|▌         | 1/20 [00:01<00:29,  1.54s/it]Setting `pad_token_id` to `eos_token_id`:50256 for open-end generation.\n",
      " 10%|█         | 2/20 [00:03<00:27,  1.52s/it]Setting `pad_token_id` to `eos_token_id`:50256 for open-end generation.\n",
      " 15%|█▌        | 3/20 [00:04<00:27,  1.62s/it]Setting `pad_token_id` to `eos_token_id`:50256 for open-end generation.\n",
      " 20%|██        | 4/20 [00:06<00:24,  1.50s/it]Setting `pad_token_id` to `eos_token_id`:50256 for open-end generation.\n",
      " 25%|██▌       | 5/20 [00:07<00:21,  1.46s/it]Setting `pad_token_id` to `eos_token_id`:50256 for open-end generation.\n",
      " 30%|███       | 6/20 [00:08<00:20,  1.46s/it]Setting `pad_token_id` to `eos_token_id`:50256 for open-end generation.\n",
      " 35%|███▌      | 7/20 [00:10<00:18,  1.43s/it]Setting `pad_token_id` to `eos_token_id`:50256 for open-end generation.\n",
      " 40%|████      | 8/20 [00:11<00:17,  1.42s/it]Setting `pad_token_id` to `eos_token_id`:50256 for open-end generation.\n",
      " 45%|████▌     | 9/20 [00:13<00:15,  1.40s/it]Setting `pad_token_id` to `eos_token_id`:50256 for open-end generation.\n",
      " 50%|█████     | 10/20 [00:14<00:14,  1.44s/it]Setting `pad_token_id` to `eos_token_id`:50256 for open-end generation.\n",
      " 55%|█████▌    | 11/20 [00:15<00:12,  1.42s/it]Setting `pad_token_id` to `eos_token_id`:50256 for open-end generation.\n",
      " 60%|██████    | 12/20 [00:17<00:12,  1.51s/it]Setting `pad_token_id` to `eos_token_id`:50256 for open-end generation.\n",
      " 65%|██████▌   | 13/20 [00:19<00:11,  1.61s/it]Setting `pad_token_id` to `eos_token_id`:50256 for open-end generation.\n",
      " 70%|███████   | 14/20 [00:21<00:10,  1.67s/it]Setting `pad_token_id` to `eos_token_id`:50256 for open-end generation.\n",
      " 75%|███████▌  | 15/20 [00:22<00:08,  1.60s/it]Setting `pad_token_id` to `eos_token_id`:50256 for open-end generation.\n",
      " 80%|████████  | 16/20 [00:24<00:06,  1.58s/it]Setting `pad_token_id` to `eos_token_id`:50256 for open-end generation.\n",
      " 85%|████████▌ | 17/20 [00:26<00:04,  1.65s/it]Setting `pad_token_id` to `eos_token_id`:50256 for open-end generation.\n",
      " 90%|█████████ | 18/20 [00:27<00:03,  1.71s/it]Setting `pad_token_id` to `eos_token_id`:50256 for open-end generation.\n",
      " 95%|█████████▌| 19/20 [00:29<00:01,  1.68s/it]Setting `pad_token_id` to `eos_token_id`:50256 for open-end generation.\n",
      "100%|██████████| 20/20 [00:30<00:00,  1.55s/it]\n"
     ]
    }
   ],
   "source": [
    "model = AutoModelForCausalLM.from_pretrained(model_name)\n",
    "\n",
    "import tqdm \n",
    "\n",
    "batch_size = 50  \n",
    "\n",
    "generated_text = []\n",
    "for t in tqdm.trange(0, len(dataset), batch_size):\n",
    "    batch = dataset[t:t+batch_size]\n",
    "    generated = model.generate(\n",
    "        **batch,\n",
    "        do_sample=True,\n",
    "        top_k=50,\n",
    "        top_p=0.95,\n",
    "        temperature=0.9,\n",
    "        max_length=20,\n",
    "        num_return_sequences=1,\n",
    "    )\n",
    "    decoded = tokenizer.batch_decode(\n",
    "        generated, \n",
    "        skip_special_tokens=True\n",
    "    )\n",
    "    generated_text.extend(decoded)\n"
   ]
  },
  {
   "cell_type": "code",
   "execution_count": 113,
   "metadata": {},
   "outputs": [
    {
     "name": "stdout",
     "output_type": "stream",
     "text": [
      "step 0.0\n",
      "step 0.01\n",
      "step 0.02\n",
      "step 0.03\n",
      "step 0.04\n",
      "step 0.05\n",
      "step 0.06\n",
      "step 0.07\n",
      "step 0.08\n",
      "step 0.09\n",
      "step 0.1\n",
      "step 0.11\n",
      "step 0.12\n",
      "step 0.13\n",
      "step 0.14\n",
      "step 0.15\n",
      "step 0.16\n",
      "step 0.17\n",
      "step 0.18\n",
      "step 0.19\n",
      "step 0.2\n",
      "step 0.21\n",
      "step 0.22\n",
      "step 0.23\n",
      "step 0.24\n",
      "step 0.25\n",
      "step 0.26\n",
      "step 0.27\n",
      "step 0.28\n",
      "step 0.29\n",
      "step 0.3\n",
      "step 0.31\n",
      "step 0.32\n",
      "step 0.33\n",
      "step 0.34\n",
      "step 0.35\n",
      "step 0.36\n",
      "step 0.37\n",
      "step 0.38\n",
      "step 0.39\n",
      "step 0.4\n",
      "step 0.41\n",
      "step 0.42\n",
      "step 0.43\n",
      "step 0.44\n",
      "step 0.45\n",
      "step 0.46\n",
      "step 0.47\n",
      "step 0.48\n",
      "step 0.49\n",
      "step 0.5\n",
      "step 0.51\n",
      "step 0.52\n",
      "step 0.53\n",
      "step 0.54\n",
      "step 0.55\n",
      "step 0.56\n",
      "step 0.57\n",
      "step 0.58\n",
      "step 0.59\n",
      "step 0.6\n",
      "step 0.61\n",
      "step 0.62\n",
      "step 0.63\n",
      "step 0.64\n",
      "step 0.65\n",
      "step 0.66\n",
      "step 0.67\n",
      "step 0.68\n",
      "step 0.69\n",
      "step 0.7\n",
      "step 0.71\n",
      "step 0.72\n",
      "step 0.73\n",
      "step 0.74\n",
      "step 0.75\n",
      "step 0.76\n",
      "step 0.77\n",
      "step 0.78\n",
      "step 0.79\n",
      "step 0.8\n",
      "step 0.81\n",
      "step 0.82\n",
      "step 0.83\n",
      "step 0.84\n",
      "step 0.85\n",
      "step 0.86\n",
      "step 0.87\n",
      "step 0.88\n",
      "step 0.89\n",
      "step 0.9\n",
      "step 0.91\n",
      "step 0.92\n",
      "step 0.93\n",
      "step 0.94\n",
      "step 0.95\n",
      "step 0.96\n",
      "step 0.97\n",
      "step 0.98\n",
      "step 0.99\n"
     ]
    }
   ],
   "source": [
    "from rl4lms.envs.text_generation.sentiment_reward import XLNetIMDBReward, BERTTwitterReward\n",
    "\n",
    "# distribution of positive sentiment \n",
    "# i wish we could compute had batched reward computation \n",
    "\n",
    "rewards = []\n",
    "for i, t in enumerate(generated_text):\n",
    "    rewards.append(BERTTwitterReward()._compute_sentiment(t).detach().cpu()[:, 1].item())\n",
    "    if i % 10 == 0:\n",
    "        print('step', i/len(generated_text))"
   ]
  },
  {
   "cell_type": "code",
   "execution_count": 114,
   "metadata": {},
   "outputs": [],
   "source": [
    "# base_rewards = rewards\n",
    "warmed_up_rewards = rewards"
   ]
  },
  {
   "cell_type": "code",
   "execution_count": 115,
   "metadata": {},
   "outputs": [
    {
     "data": {
      "image/png": "[encoded data removed]",
      "text/plain": [
       "<Figure size 640x480 with 1 Axes>"
      ]
     },
     "metadata": {},
     "output_type": "display_data"
    }
   ],
   "source": [
    "\n",
    "import matplotlib.pyplot as plt\n",
    "\n",
    "plt.hist(warmed_up_rewards, bins=20, alpha=0.4, label='warmed up')\n",
    "plt.hist(base_rewards, bins=20, alpha=0.4, label='base gpt2')\n",
    "plt.legend()\n",
    "plt.show()"
   ]
  },
  {
   "cell_type": "code",
   "execution_count": null,
   "metadata": {},
   "outputs": [],
   "source": [
    "\n",
    "warmed_up_rewards = rewards"
   ]
  }
 ],
 "metadata": {
  "kernelspec": {
   "display_name": "rl-venv",
   "language": "python",
   "name": "python3"
  },
  "language_info": {
   "codemirror_mode": {
    "name": "ipython",
    "version": 3
   },
   "file_extension": ".py",
   "mimetype": "text/x-python",
   "name": "python",
   "nbconvert_exporter": "python",
   "pygments_lexer": "ipython3",
   "version": "3.8.10"
  },
  "orig_nbformat": 4
 },
 "nbformat": 4,
 "nbformat_minor": 2
}
